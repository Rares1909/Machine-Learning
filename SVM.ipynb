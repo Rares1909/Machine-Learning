{
 "cells": [
  {
   "cell_type": "code",
   "execution_count": 2,
   "id": "ee5c38d1",
   "metadata": {},
   "outputs": [],
   "source": [
    "\n",
    "from sklearn import svm \n",
    "from sklearn import preprocessing\n",
    "from sklearn.preprocessing import Normalizer as normalizer\n",
    "import numpy as np\n",
    "\n",
    "train_data = np.load('lab4/training_sentences.npy',allow_pickle=True)\n",
    "\n",
    "train_labels = np.load('lab4/training_labels.npy',allow_pickle=True)\n",
    "\n",
    "test_data=np.load('lab4/test_sentences.npy',allow_pickle=True)\n",
    "\n",
    "test_labels=np.load('lab4/test_labels.npy',allow_pickle=True)\n",
    "\n",
    "def normalize_data(train_data, test_data,type=None):\n",
    "    if type==\"l1\":\n",
    "        norm=normalizer(norm=\"l1\")\n",
    "        normalized_data_train = norm.transform(train_data)\n",
    "        normalized_data_test= norm.transform(test_data)\n",
    "    if type==\"l2\":\n",
    "        norm=normalizer(norm=\"l2\")\n",
    "        normalized_data_train = norm.transform(train_data)\n",
    "        normalized_data_test= norm.transform(test_data)\n",
    "    if type==\"standard\":\n",
    "        scaler = preprocessing.StandardScaler()\n",
    "        scaler.fit(train_data)\n",
    "        normalized_data_train = scaler.transform(train_data)\n",
    "        \n",
    "        scaler.fit(test_data)\n",
    "        normalized_data_test=scaler.transform(test_data)\n",
    "    return normalized_data_train, normalized_data_test\n",
    "    "
   ]
  },
  {
   "cell_type": "code",
   "execution_count": 3,
   "id": "6308355a",
   "metadata": {},
   "outputs": [],
   "source": [
    "#3,4\n",
    "class BagOfWords:\n",
    "    def __init__(self):\n",
    "        self.d={}\n",
    "        self.list=[]\n",
    "    def build_vocabulary(self,data):\n",
    "        for sentence in data:\n",
    "            for i in range(len(sentence)):\n",
    "                if sentence[i] not in self.d:\n",
    "                    self.d[sentence[i]]=i\n",
    "                    self.list.append(sentence[i])\n",
    "        return len(self.list)\n",
    "    \n",
    "    def get_features(self,data):\n",
    "        features=np.zeros((len(data),len(self.list)))\n",
    "        i=0\n",
    "        for sentence in data:\n",
    "            for cuv in sentence:\n",
    "                if cuv in self.d:\n",
    "                    features[i][self.d[cuv]]+=1\n",
    "            i+=1\n",
    "        return features\n",
    "                \n",
    "#bag=BagOfWords()\n",
    "#bag.build_vocabulary(train_data)\n",
    "    "
   ]
  },
  {
   "cell_type": "code",
   "execution_count": 4,
   "id": "3e330da9",
   "metadata": {},
   "outputs": [],
   "source": [
    "#5\n",
    "bag=BagOfWords()\n",
    "bag.build_vocabulary(train_data)\n",
    "train_features=bag.get_features(train_data)\n",
    "\n",
    "test_features=bag.get_features(test_data)\n",
    "normalized_data_train, normalized_data_test=normalize_data(train_features,test_features,\"l2\")"
   ]
  },
  {
   "cell_type": "code",
   "execution_count": 11,
   "id": "e8845d70",
   "metadata": {},
   "outputs": [],
   "source": [
    "#6\n",
    "svm_model = svm.SVC(C=1, kernel='linear')\n",
    "svm_model.fit(normalized_data_train, train_labels)\n",
    "predicted_labels_test = svm_model.predict(normalized_data_test)\n"
   ]
  },
  {
   "cell_type": "code",
   "execution_count": 13,
   "id": "3ab9926f",
   "metadata": {},
   "outputs": [
    {
     "name": "stdout",
     "output_type": "stream",
     "text": [
      "Accuracy: 0.9152173913043479\n",
      "F1 score: 0.5916230366492146\n",
      "spam: ['0776xxxxxxx', 'President', 'txt', 'been', 'Name', 'NEW', 'to', '86688', 'our', 'This']\n",
      "non-spam: ['will', 'question', 'your', 'I', '4', 'Your', 'this', 'Thanks', 'WITH', 'ON']\n"
     ]
    }
   ],
   "source": [
    "from sklearn.metrics import accuracy_score, f1_score\n",
    "\n",
    "accuracy = accuracy_score(test_labels, predicted_labels_test)\n",
    "f1 = f1_score(test_labels, predicted_labels_test)\n",
    "\n",
    "print(\"Accuracy:\", accuracy)\n",
    "print(\"F1 score:\", f1)\n",
    "\n",
    "feature_coef = svm_model.coef_[0]\n",
    "\n",
    "\n",
    "sorted_coef_indices = feature_coef.argsort()\n",
    "\n",
    "\n",
    "negative_coef = sorted_coef_indices[:10]\n",
    "print(\"spam:\", [bag.list[i] for i in negative_coef])\n",
    "\n",
    "positive_coef = sorted_coef_indices[:-11:-1]\n",
    "print(\"non-spam:\",[bag.list[i] for i in positive_coef])"
   ]
  },
  {
   "cell_type": "code",
   "execution_count": null,
   "id": "e3478ce1",
   "metadata": {},
   "outputs": [],
   "source": []
  }
 ],
 "metadata": {
  "kernelspec": {
   "display_name": "Python 3 (ipykernel)",
   "language": "python",
   "name": "python3"
  },
  "language_info": {
   "codemirror_mode": {
    "name": "ipython",
    "version": 3
   },
   "file_extension": ".py",
   "mimetype": "text/x-python",
   "name": "python",
   "nbconvert_exporter": "python",
   "pygments_lexer": "ipython3",
   "version": "3.9.13"
  }
 },
 "nbformat": 4,
 "nbformat_minor": 5
}
